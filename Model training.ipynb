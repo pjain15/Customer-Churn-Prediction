{
 "cells": [
  {
   "cell_type": "code",
   "execution_count": 1,
   "id": "0d169718",
   "metadata": {},
   "outputs": [],
   "source": [
    "import pandas as pd\n",
    "import numpy as np\n",
    "\n",
    "from datetime import datetime\n",
    "from dateutil import relativedelta\n",
    " \n",
    "from xgboost import XGBClassifier\n",
    "from sklearn.ensemble import RandomForestClassifier\n",
    "from sklearn.linear_model import LogisticRegression\n",
    "\n",
    "from sklearn.model_selection import train_test_split\n",
    "# from sklearn.model_selection import GridSearchCV\n",
    "\n",
    "from sklearn.preprocessing import MinMaxScaler\n",
    "\n",
    "from sklearn.metrics import accuracy_score\n",
    "from sklearn.metrics import roc_auc_score\n",
    "\n",
    "import joblib"
   ]
  },
  {
   "cell_type": "code",
   "execution_count": 2,
   "id": "208bc1b1",
   "metadata": {},
   "outputs": [
    {
     "name": "stdout",
     "output_type": "stream",
     "text": [
      "(10000, 19)\n",
      "Index(['CustomerId', 'CreditScore', 'Region', 'Gender', 'Age', 'ACCT_OPN_DATE',\n",
      "       'M_Minus_one_Bal', 'Total_FD_Amt', 'HasCrCard', 'Last_Login_Date',\n",
      "       'EstimatedSalary', 'Acct_Cls_Flag', 'Current_balance',\n",
      "       'M_Minus_two_Bal', 'Acct_vintage', 'Login_vintage',\n",
      "       'CreditScore_buckets', 'Age_buckets', 'Churn'],\n",
      "      dtype='object')\n"
     ]
    },
    {
     "data": {
      "text/html": [
       "<div>\n",
       "<style scoped>\n",
       "    .dataframe tbody tr th:only-of-type {\n",
       "        vertical-align: middle;\n",
       "    }\n",
       "\n",
       "    .dataframe tbody tr th {\n",
       "        vertical-align: top;\n",
       "    }\n",
       "\n",
       "    .dataframe thead th {\n",
       "        text-align: right;\n",
       "    }\n",
       "</style>\n",
       "<table border=\"1\" class=\"dataframe\">\n",
       "  <thead>\n",
       "    <tr style=\"text-align: right;\">\n",
       "      <th></th>\n",
       "      <th>CustomerId</th>\n",
       "      <th>CreditScore</th>\n",
       "      <th>Region</th>\n",
       "      <th>Gender</th>\n",
       "      <th>Age</th>\n",
       "      <th>ACCT_OPN_DATE</th>\n",
       "      <th>M_Minus_one_Bal</th>\n",
       "      <th>Total_FD_Amt</th>\n",
       "      <th>HasCrCard</th>\n",
       "      <th>Last_Login_Date</th>\n",
       "      <th>EstimatedSalary</th>\n",
       "      <th>Acct_Cls_Flag</th>\n",
       "      <th>Current_balance</th>\n",
       "      <th>M_Minus_two_Bal</th>\n",
       "      <th>Acct_vintage</th>\n",
       "      <th>Login_vintage</th>\n",
       "      <th>CreditScore_buckets</th>\n",
       "      <th>Age_buckets</th>\n",
       "      <th>Churn</th>\n",
       "    </tr>\n",
       "  </thead>\n",
       "  <tbody>\n",
       "    <tr>\n",
       "      <th>0</th>\n",
       "      <td>15586039</td>\n",
       "      <td>471</td>\n",
       "      <td>Western</td>\n",
       "      <td>Female</td>\n",
       "      <td>36</td>\n",
       "      <td>2023-03-08</td>\n",
       "      <td>304683</td>\n",
       "      <td>490000</td>\n",
       "      <td>0</td>\n",
       "      <td>2023-06-08</td>\n",
       "      <td>96366.70</td>\n",
       "      <td>0</td>\n",
       "      <td>415351</td>\n",
       "      <td>292972</td>\n",
       "      <td>166</td>\n",
       "      <td>74</td>\n",
       "      <td>a.&lt;580</td>\n",
       "      <td>b.30-40</td>\n",
       "      <td>0</td>\n",
       "    </tr>\n",
       "    <tr>\n",
       "      <th>1</th>\n",
       "      <td>15723250</td>\n",
       "      <td>519</td>\n",
       "      <td>South</td>\n",
       "      <td>Male</td>\n",
       "      <td>42</td>\n",
       "      <td>2022-12-08</td>\n",
       "      <td>37261</td>\n",
       "      <td>490000</td>\n",
       "      <td>1</td>\n",
       "      <td>2023-06-08</td>\n",
       "      <td>101485.72</td>\n",
       "      <td>0</td>\n",
       "      <td>396451</td>\n",
       "      <td>123094</td>\n",
       "      <td>256</td>\n",
       "      <td>74</td>\n",
       "      <td>a.&lt;580</td>\n",
       "      <td>c.40-60</td>\n",
       "      <td>0</td>\n",
       "    </tr>\n",
       "    <tr>\n",
       "      <th>2</th>\n",
       "      <td>15581840</td>\n",
       "      <td>626</td>\n",
       "      <td>South</td>\n",
       "      <td>Male</td>\n",
       "      <td>33</td>\n",
       "      <td>2022-12-08</td>\n",
       "      <td>346591</td>\n",
       "      <td>500000</td>\n",
       "      <td>1</td>\n",
       "      <td>2023-08-08</td>\n",
       "      <td>138504.28</td>\n",
       "      <td>0</td>\n",
       "      <td>22758</td>\n",
       "      <td>55854</td>\n",
       "      <td>256</td>\n",
       "      <td>13</td>\n",
       "      <td>b.580-660</td>\n",
       "      <td>b.30-40</td>\n",
       "      <td>1</td>\n",
       "    </tr>\n",
       "    <tr>\n",
       "      <th>3</th>\n",
       "      <td>15662238</td>\n",
       "      <td>822</td>\n",
       "      <td>South</td>\n",
       "      <td>Male</td>\n",
       "      <td>37</td>\n",
       "      <td>2023-05-08</td>\n",
       "      <td>393118</td>\n",
       "      <td>500000</td>\n",
       "      <td>1</td>\n",
       "      <td>2023-08-08</td>\n",
       "      <td>182624.93</td>\n",
       "      <td>0</td>\n",
       "      <td>340244</td>\n",
       "      <td>278305</td>\n",
       "      <td>105</td>\n",
       "      <td>13</td>\n",
       "      <td>e.800+</td>\n",
       "      <td>b.30-40</td>\n",
       "      <td>0</td>\n",
       "    </tr>\n",
       "    <tr>\n",
       "      <th>4</th>\n",
       "      <td>15795151</td>\n",
       "      <td>705</td>\n",
       "      <td>South</td>\n",
       "      <td>Female</td>\n",
       "      <td>38</td>\n",
       "      <td>2023-05-08</td>\n",
       "      <td>107895</td>\n",
       "      <td>480000</td>\n",
       "      <td>0</td>\n",
       "      <td>2023-05-08</td>\n",
       "      <td>21177.10</td>\n",
       "      <td>0</td>\n",
       "      <td>317835</td>\n",
       "      <td>131458</td>\n",
       "      <td>105</td>\n",
       "      <td>105</td>\n",
       "      <td>c.660-720</td>\n",
       "      <td>b.30-40</td>\n",
       "      <td>0</td>\n",
       "    </tr>\n",
       "  </tbody>\n",
       "</table>\n",
       "</div>"
      ],
      "text/plain": [
       "   CustomerId  CreditScore   Region  Gender  Age ACCT_OPN_DATE  \\\n",
       "0    15586039          471  Western  Female   36    2023-03-08   \n",
       "1    15723250          519    South    Male   42    2022-12-08   \n",
       "2    15581840          626    South    Male   33    2022-12-08   \n",
       "3    15662238          822    South    Male   37    2023-05-08   \n",
       "4    15795151          705    South  Female   38    2023-05-08   \n",
       "\n",
       "   M_Minus_one_Bal  Total_FD_Amt  HasCrCard Last_Login_Date  EstimatedSalary  \\\n",
       "0           304683        490000          0      2023-06-08         96366.70   \n",
       "1            37261        490000          1      2023-06-08        101485.72   \n",
       "2           346591        500000          1      2023-08-08        138504.28   \n",
       "3           393118        500000          1      2023-08-08        182624.93   \n",
       "4           107895        480000          0      2023-05-08         21177.10   \n",
       "\n",
       "   Acct_Cls_Flag  Current_balance  M_Minus_two_Bal  Acct_vintage  \\\n",
       "0              0           415351           292972           166   \n",
       "1              0           396451           123094           256   \n",
       "2              0            22758            55854           256   \n",
       "3              0           340244           278305           105   \n",
       "4              0           317835           131458           105   \n",
       "\n",
       "   Login_vintage CreditScore_buckets Age_buckets  Churn  \n",
       "0             74              a.<580     b.30-40      0  \n",
       "1             74              a.<580     c.40-60      0  \n",
       "2             13           b.580-660     b.30-40      1  \n",
       "3             13              e.800+     b.30-40      0  \n",
       "4            105           c.660-720     b.30-40      0  "
      ]
     },
     "execution_count": 2,
     "metadata": {},
     "output_type": "execute_result"
    }
   ],
   "source": [
    "df = pd.read_csv(r\"Dataset/Churn_Modelling_post_EDA.csv\")\n",
    "print(df.shape)\n",
    "print(df.columns)\n",
    "df.head()"
   ]
  },
  {
   "cell_type": "code",
   "execution_count": 3,
   "id": "33369980",
   "metadata": {},
   "outputs": [],
   "source": [
    "df = pd.get_dummies(df,columns = ['Region','Gender','CreditScore_buckets','Age_buckets'],drop_first = True)"
   ]
  },
  {
   "cell_type": "code",
   "execution_count": 4,
   "id": "56babe76",
   "metadata": {},
   "outputs": [],
   "source": [
    "cols_to_remove_in_training = ['CustomerId','CreditScore','Age','ACCT_OPN_DATE','Last_Login_Date',\n",
    "                  'Current_balance','M_Minus_two_Bal','M_Minus_one_Bal']\n",
    "\n",
    "target = 'Churn'\n",
    "cols_to_remove_in_training.append(target)\n"
   ]
  },
  {
   "cell_type": "code",
   "execution_count": 5,
   "id": "a8f51775",
   "metadata": {},
   "outputs": [],
   "source": [
    "training_cols = [i for i in list(df.columns) if i not in cols_to_remove_in_training]\n",
    "\n",
    "X = df[training_cols]\n",
    "y = df[[target]]\n",
    "\n",
    "# Scaling all the variables to a range of 0 to 1\n",
    "features = X.columns.values\n",
    "scaler = MinMaxScaler(feature_range = (0,1))\n",
    "scaler.fit(X)\n",
    "X = pd.DataFrame(scaler.transform(X))\n",
    "X.columns = features\n",
    "\n",
    "joblib.dump(scaler, \"min_max_scaler.pkl\")\n",
    "\n",
    "test_size = 0.30\n",
    "X_train, X_test, y_train, y_test = train_test_split(X, y, test_size=test_size, random_state=41)"
   ]
  },
  {
   "cell_type": "code",
   "execution_count": 6,
   "id": "fdad605e",
   "metadata": {},
   "outputs": [
    {
     "data": {
      "text/html": [
       "<div>\n",
       "<style scoped>\n",
       "    .dataframe tbody tr th:only-of-type {\n",
       "        vertical-align: middle;\n",
       "    }\n",
       "\n",
       "    .dataframe tbody tr th {\n",
       "        vertical-align: top;\n",
       "    }\n",
       "\n",
       "    .dataframe thead th {\n",
       "        text-align: right;\n",
       "    }\n",
       "</style>\n",
       "<table border=\"1\" class=\"dataframe\">\n",
       "  <thead>\n",
       "    <tr style=\"text-align: right;\">\n",
       "      <th></th>\n",
       "      <th>Total_FD_Amt</th>\n",
       "      <th>HasCrCard</th>\n",
       "      <th>EstimatedSalary</th>\n",
       "      <th>Acct_Cls_Flag</th>\n",
       "      <th>Acct_vintage</th>\n",
       "      <th>Login_vintage</th>\n",
       "      <th>Region_South</th>\n",
       "      <th>Region_Western</th>\n",
       "      <th>Gender_Male</th>\n",
       "      <th>CreditScore_buckets_b.580-660</th>\n",
       "      <th>CreditScore_buckets_c.660-720</th>\n",
       "      <th>CreditScore_buckets_d.720-800</th>\n",
       "      <th>CreditScore_buckets_e.800+</th>\n",
       "      <th>Age_buckets_b.30-40</th>\n",
       "      <th>Age_buckets_c.40-60</th>\n",
       "      <th>Age_buckets_d.60+</th>\n",
       "    </tr>\n",
       "  </thead>\n",
       "  <tbody>\n",
       "    <tr>\n",
       "      <th>9818</th>\n",
       "      <td>0.96</td>\n",
       "      <td>1.0</td>\n",
       "      <td>0.778734</td>\n",
       "      <td>0.0</td>\n",
       "      <td>0.697368</td>\n",
       "      <td>0.336957</td>\n",
       "      <td>0.0</td>\n",
       "      <td>0.0</td>\n",
       "      <td>0.0</td>\n",
       "      <td>1.0</td>\n",
       "      <td>0.0</td>\n",
       "      <td>0.0</td>\n",
       "      <td>0.0</td>\n",
       "      <td>1.0</td>\n",
       "      <td>0.0</td>\n",
       "      <td>0.0</td>\n",
       "    </tr>\n",
       "    <tr>\n",
       "      <th>3134</th>\n",
       "      <td>0.08</td>\n",
       "      <td>0.0</td>\n",
       "      <td>0.468822</td>\n",
       "      <td>0.0</td>\n",
       "      <td>0.697368</td>\n",
       "      <td>0.336957</td>\n",
       "      <td>0.0</td>\n",
       "      <td>1.0</td>\n",
       "      <td>1.0</td>\n",
       "      <td>0.0</td>\n",
       "      <td>0.0</td>\n",
       "      <td>0.0</td>\n",
       "      <td>0.0</td>\n",
       "      <td>0.0</td>\n",
       "      <td>0.0</td>\n",
       "      <td>0.0</td>\n",
       "    </tr>\n",
       "  </tbody>\n",
       "</table>\n",
       "</div>"
      ],
      "text/plain": [
       "      Total_FD_Amt  HasCrCard  EstimatedSalary  Acct_Cls_Flag  Acct_vintage  \\\n",
       "9818          0.96        1.0         0.778734            0.0      0.697368   \n",
       "3134          0.08        0.0         0.468822            0.0      0.697368   \n",
       "\n",
       "      Login_vintage  Region_South  Region_Western  Gender_Male  \\\n",
       "9818       0.336957           0.0             0.0          0.0   \n",
       "3134       0.336957           0.0             1.0          1.0   \n",
       "\n",
       "      CreditScore_buckets_b.580-660  CreditScore_buckets_c.660-720  \\\n",
       "9818                            1.0                            0.0   \n",
       "3134                            0.0                            0.0   \n",
       "\n",
       "      CreditScore_buckets_d.720-800  CreditScore_buckets_e.800+  \\\n",
       "9818                            0.0                         0.0   \n",
       "3134                            0.0                         0.0   \n",
       "\n",
       "      Age_buckets_b.30-40  Age_buckets_c.40-60  Age_buckets_d.60+  \n",
       "9818                  1.0                  0.0                0.0  \n",
       "3134                  0.0                  0.0                0.0  "
      ]
     },
     "execution_count": 6,
     "metadata": {},
     "output_type": "execute_result"
    }
   ],
   "source": [
    "X_train.head(2)"
   ]
  },
  {
   "cell_type": "code",
   "execution_count": 7,
   "id": "deabbe5d",
   "metadata": {},
   "outputs": [
    {
     "data": {
      "text/plain": [
       "0    78.9\n",
       "1    21.1\n",
       "Name: Churn, dtype: float64"
      ]
     },
     "execution_count": 7,
     "metadata": {},
     "output_type": "execute_result"
    }
   ],
   "source": [
    "y_train[target].value_counts()*100/len(y_train)"
   ]
  },
  {
   "cell_type": "code",
   "execution_count": 8,
   "id": "ee31d439",
   "metadata": {},
   "outputs": [
    {
     "data": {
      "text/plain": [
       "0    79.266667\n",
       "1    20.733333\n",
       "Name: Churn, dtype: float64"
      ]
     },
     "execution_count": 8,
     "metadata": {},
     "output_type": "execute_result"
    }
   ],
   "source": [
    "y_test[target].value_counts()*100/len(y_test)"
   ]
  },
  {
   "cell_type": "code",
   "execution_count": null,
   "id": "255a3f11",
   "metadata": {},
   "outputs": [],
   "source": []
  },
  {
   "cell_type": "markdown",
   "id": "eba11e63",
   "metadata": {},
   "source": [
    "Model training"
   ]
  },
  {
   "cell_type": "raw",
   "id": "54b4e93e",
   "metadata": {},
   "source": [
    "Logistic regression"
   ]
  },
  {
   "cell_type": "code",
   "execution_count": 9,
   "id": "bac4f000",
   "metadata": {},
   "outputs": [
    {
     "name": "stderr",
     "output_type": "stream",
     "text": [
      "C:\\ProgramData\\Anaconda3\\lib\\site-packages\\sklearn\\utils\\validation.py:1184: DataConversionWarning: A column-vector y was passed when a 1d array was expected. Please change the shape of y to (n_samples, ), for example using ravel().\n",
      "  y = column_or_1d(y, warn=True)\n"
     ]
    },
    {
     "data": {
      "text/plain": [
       "['LogisticRegression.pkl']"
      ]
     },
     "execution_count": 9,
     "metadata": {},
     "output_type": "execute_result"
    }
   ],
   "source": [
    "model = LogisticRegression()\n",
    "result = model.fit(X_train, y_train)\n",
    "joblib.dump(model, 'LogisticRegression.pkl') "
   ]
  },
  {
   "cell_type": "code",
   "execution_count": 10,
   "id": "246c7228",
   "metadata": {},
   "outputs": [
    {
     "name": "stdout",
     "output_type": "stream",
     "text": [
      "0.7926666666666666\n"
     ]
    }
   ],
   "source": [
    "prediction_test = model.predict(X_test)\n",
    "# Print the prediction accuracy\n",
    "print (accuracy_score(y_test, prediction_test))"
   ]
  },
  {
   "cell_type": "code",
   "execution_count": 11,
   "id": "9c11fc9b",
   "metadata": {},
   "outputs": [
    {
     "name": "stdout",
     "output_type": "stream",
     "text": [
      "AxesSubplot(0.125,0.125;0.775x0.755)\n"
     ]
    },
    {
     "data": {
      "image/png": "[encoded data removed]",
      "text/plain": [
       "<Figure size 432x288 with 1 Axes>"
      ]
     },
     "metadata": {
      "needs_background": "light"
     },
     "output_type": "display_data"
    }
   ],
   "source": [
    "weights = pd.Series(model.coef_[0],\n",
    "                 index=X.columns.values)\n",
    "print (weights.sort_values(ascending = False)[:10].plot(kind='bar'))"
   ]
  },
  {
   "cell_type": "code",
   "execution_count": 12,
   "id": "f8b427cd",
   "metadata": {},
   "outputs": [
    {
     "name": "stdout",
     "output_type": "stream",
     "text": [
      "AxesSubplot(0.125,0.125;0.775x0.755)\n"
     ]
    },
    {
     "data": {
      "image/png": "[encoded data removed]",
      "text/plain": [
       "<Figure size 432x288 with 1 Axes>"
      ]
     },
     "metadata": {
      "needs_background": "light"
     },
     "output_type": "display_data"
    }
   ],
   "source": [
    "print(weights.sort_values(ascending = False)[-10:].plot(kind='bar'))\n"
   ]
  },
  {
   "cell_type": "code",
   "execution_count": null,
   "id": "30393fec",
   "metadata": {},
   "outputs": [],
   "source": []
  },
  {
   "cell_type": "raw",
   "id": "3cc55d48",
   "metadata": {},
   "source": [
    "Random Forest"
   ]
  },
  {
   "cell_type": "code",
   "execution_count": 13,
   "id": "d7f9b815",
   "metadata": {},
   "outputs": [
    {
     "name": "stderr",
     "output_type": "stream",
     "text": [
      "C:\\ProgramData\\Anaconda3\\lib\\site-packages\\sklearn\\base.py:1151: DataConversionWarning: A column-vector y was passed when a 1d array was expected. Please change the shape of y to (n_samples,), for example using ravel().\n",
      "  return fit_method(estimator, *args, **kwargs)\n"
     ]
    },
    {
     "name": "stdout",
     "output_type": "stream",
     "text": [
      "0.792\n"
     ]
    }
   ],
   "source": [
    "X_train, X_test, y_train, y_test = train_test_split(X, y, test_size=0.2, random_state=101)\n",
    "model_rf = RandomForestClassifier(n_estimators=1000 , oob_score = True, n_jobs = -1,\n",
    "                                  random_state =50, max_features = \"sqrt\",\n",
    "                                  max_leaf_nodes = 30)\n",
    "model_rf.fit(X_train, y_train)\n",
    "\n",
    "# Make predictions\n",
    "prediction_test = model_rf.predict(X_test)\n",
    "print (accuracy_score(y_test, prediction_test))"
   ]
  },
  {
   "cell_type": "code",
   "execution_count": 14,
   "id": "fc613207",
   "metadata": {},
   "outputs": [
    {
     "data": {
      "text/plain": [
       "<AxesSubplot:>"
      ]
     },
     "execution_count": 14,
     "metadata": {},
     "output_type": "execute_result"
    },
    {
     "data": {
      "image/png": "[encoded data removed]",
      "text/plain": [
       "<Figure size 432x288 with 1 Axes>"
      ]
     },
     "metadata": {
      "needs_background": "light"
     },
     "output_type": "display_data"
    }
   ],
   "source": [
    "importances = model_rf.feature_importances_\n",
    "weights = pd.Series(importances,\n",
    "                 index=X.columns.values)\n",
    "weights.sort_values()[-10:].plot(kind = 'barh')"
   ]
  },
  {
   "cell_type": "code",
   "execution_count": null,
   "id": "1e829dc0",
   "metadata": {},
   "outputs": [],
   "source": []
  },
  {
   "cell_type": "code",
   "execution_count": 15,
   "id": "b45fbfeb",
   "metadata": {},
   "outputs": [
    {
     "data": {
      "text/plain": [
       "0.7675"
      ]
     },
     "execution_count": 15,
     "metadata": {},
     "output_type": "execute_result"
    }
   ],
   "source": [
    "\n",
    "model = XGBClassifier()\n",
    "model.fit(X_train, y_train)\n",
    "preds = model.predict(X_test)\n",
    "accuracy_score(y_test, preds)"
   ]
  },
  {
   "cell_type": "code",
   "execution_count": 16,
   "id": "0789634e",
   "metadata": {},
   "outputs": [
    {
     "data": {
      "text/plain": [
       "<AxesSubplot:>"
      ]
     },
     "execution_count": 16,
     "metadata": {},
     "output_type": "execute_result"
    },
    {
     "data": {
      "image/png": "[encoded data removed]",
      "text/plain": [
       "<Figure size 432x288 with 1 Axes>"
      ]
     },
     "metadata": {
      "needs_background": "light"
     },
     "output_type": "display_data"
    }
   ],
   "source": [
    "importances = model.feature_importances_\n",
    "weights = pd.Series(importances,\n",
    "                 index=X.columns.values)\n",
    "weights.sort_values()[-10:].plot(kind = 'barh')"
   ]
  },
  {
   "cell_type": "markdown",
   "id": "585314e0",
   "metadata": {},
   "source": [
    "Since we want to understand the parameters based on which decisions are made so that those can be improved and acted upon we should be vary of blackbox models, and as already seen in our example Logistic is performaaing on par with random forest and XGBoost. If it was performaing very suboptimal then that would have been a different case. But Now lest just take Logistic Regression. This will be very useful information for product and marketing teams. For example, if we know that credit score plays a part in churn, we can use this to create more effective campaigns and pricing strategy for low value clients."
   ]
  },
  {
   "cell_type": "code",
   "execution_count": null,
   "id": "34a2e8f8",
   "metadata": {},
   "outputs": [],
   "source": []
  }
 ],
 "metadata": {
  "kernelspec": {
   "display_name": "Python 3",
   "language": "python",
   "name": "python3"
  },
  "language_info": {
   "codemirror_mode": {
    "name": "ipython",
    "version": 3
   },
   "file_extension": ".py",
   "mimetype": "text/x-python",
   "name": "python",
   "nbconvert_exporter": "python",
   "pygments_lexer": "ipython3",
   "version": "3.8.8"
  }
 },
 "nbformat": 4,
 "nbformat_minor": 5
}
