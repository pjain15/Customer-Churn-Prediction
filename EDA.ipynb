{
 "cells": [
  {
   "cell_type": "code",
   "execution_count": 1,
   "id": "6885baaa",
   "metadata": {},
   "outputs": [],
   "source": [
    "import pandas as pd\n",
    "import numpy as np\n",
    "\n",
    "from datetime import datetime\n",
    "from dateutil import relativedelta\n",
    "\n",
    "import matplotlib.pyplot as plt\n",
    "import matplotlib.ticker as mtick"
   ]
  },
  {
   "cell_type": "code",
   "execution_count": 2,
   "id": "55c5f27c",
   "metadata": {},
   "outputs": [
    {
     "name": "stdout",
     "output_type": "stream",
     "text": [
      "(10000, 14)\n",
      "Index(['CustomerId', 'CreditScore', 'Region', 'Gender', 'Age', 'ACCT_OPN_DATE',\n",
      "       'M_Minus_one_Bal', 'Total_FD_Amt', 'HasCrCard', 'Last_Login_Date',\n",
      "       'EstimatedSalary', 'Acct_Cls_Flag', 'Current_balance',\n",
      "       'M_Minus_two_Bal'],\n",
      "      dtype='object')\n"
     ]
    },
    {
     "data": {
      "text/html": [
       "<div>\n",
       "<style scoped>\n",
       "    .dataframe tbody tr th:only-of-type {\n",
       "        vertical-align: middle;\n",
       "    }\n",
       "\n",
       "    .dataframe tbody tr th {\n",
       "        vertical-align: top;\n",
       "    }\n",
       "\n",
       "    .dataframe thead th {\n",
       "        text-align: right;\n",
       "    }\n",
       "</style>\n",
       "<table border=\"1\" class=\"dataframe\">\n",
       "  <thead>\n",
       "    <tr style=\"text-align: right;\">\n",
       "      <th></th>\n",
       "      <th>CustomerId</th>\n",
       "      <th>CreditScore</th>\n",
       "      <th>Region</th>\n",
       "      <th>Gender</th>\n",
       "      <th>Age</th>\n",
       "      <th>ACCT_OPN_DATE</th>\n",
       "      <th>M_Minus_one_Bal</th>\n",
       "      <th>Total_FD_Amt</th>\n",
       "      <th>HasCrCard</th>\n",
       "      <th>Last_Login_Date</th>\n",
       "      <th>EstimatedSalary</th>\n",
       "      <th>Acct_Cls_Flag</th>\n",
       "      <th>Current_balance</th>\n",
       "      <th>M_Minus_two_Bal</th>\n",
       "    </tr>\n",
       "  </thead>\n",
       "  <tbody>\n",
       "    <tr>\n",
       "      <th>0</th>\n",
       "      <td>15586039</td>\n",
       "      <td>471</td>\n",
       "      <td>Western</td>\n",
       "      <td>Female</td>\n",
       "      <td>36</td>\n",
       "      <td>08-03-2023</td>\n",
       "      <td>304683</td>\n",
       "      <td>490000</td>\n",
       "      <td>0</td>\n",
       "      <td>08-06-2023</td>\n",
       "      <td>96366.70</td>\n",
       "      <td>0</td>\n",
       "      <td>415351</td>\n",
       "      <td>292972</td>\n",
       "    </tr>\n",
       "    <tr>\n",
       "      <th>1</th>\n",
       "      <td>15723250</td>\n",
       "      <td>519</td>\n",
       "      <td>South</td>\n",
       "      <td>Male</td>\n",
       "      <td>42</td>\n",
       "      <td>08-12-2022</td>\n",
       "      <td>37261</td>\n",
       "      <td>490000</td>\n",
       "      <td>1</td>\n",
       "      <td>08-06-2023</td>\n",
       "      <td>101485.72</td>\n",
       "      <td>0</td>\n",
       "      <td>396451</td>\n",
       "      <td>123094</td>\n",
       "    </tr>\n",
       "    <tr>\n",
       "      <th>2</th>\n",
       "      <td>15581840</td>\n",
       "      <td>626</td>\n",
       "      <td>South</td>\n",
       "      <td>Male</td>\n",
       "      <td>33</td>\n",
       "      <td>08-12-2022</td>\n",
       "      <td>346591</td>\n",
       "      <td>500000</td>\n",
       "      <td>1</td>\n",
       "      <td>08-08-2023</td>\n",
       "      <td>138504.28</td>\n",
       "      <td>0</td>\n",
       "      <td>22758</td>\n",
       "      <td>55854</td>\n",
       "    </tr>\n",
       "    <tr>\n",
       "      <th>3</th>\n",
       "      <td>15662238</td>\n",
       "      <td>822</td>\n",
       "      <td>South</td>\n",
       "      <td>Male</td>\n",
       "      <td>37</td>\n",
       "      <td>08-05-2023</td>\n",
       "      <td>393118</td>\n",
       "      <td>500000</td>\n",
       "      <td>1</td>\n",
       "      <td>08-08-2023</td>\n",
       "      <td>182624.93</td>\n",
       "      <td>0</td>\n",
       "      <td>340244</td>\n",
       "      <td>278305</td>\n",
       "    </tr>\n",
       "    <tr>\n",
       "      <th>4</th>\n",
       "      <td>15795151</td>\n",
       "      <td>705</td>\n",
       "      <td>South</td>\n",
       "      <td>Female</td>\n",
       "      <td>38</td>\n",
       "      <td>08-05-2023</td>\n",
       "      <td>107895</td>\n",
       "      <td>480000</td>\n",
       "      <td>0</td>\n",
       "      <td>08-05-2023</td>\n",
       "      <td>21177.10</td>\n",
       "      <td>0</td>\n",
       "      <td>317835</td>\n",
       "      <td>131458</td>\n",
       "    </tr>\n",
       "  </tbody>\n",
       "</table>\n",
       "</div>"
      ],
      "text/plain": [
       "   CustomerId  CreditScore   Region  Gender  Age ACCT_OPN_DATE  \\\n",
       "0    15586039          471  Western  Female   36    08-03-2023   \n",
       "1    15723250          519    South    Male   42    08-12-2022   \n",
       "2    15581840          626    South    Male   33    08-12-2022   \n",
       "3    15662238          822    South    Male   37    08-05-2023   \n",
       "4    15795151          705    South  Female   38    08-05-2023   \n",
       "\n",
       "   M_Minus_one_Bal  Total_FD_Amt  HasCrCard Last_Login_Date  EstimatedSalary  \\\n",
       "0           304683        490000          0      08-06-2023         96366.70   \n",
       "1            37261        490000          1      08-06-2023        101485.72   \n",
       "2           346591        500000          1      08-08-2023        138504.28   \n",
       "3           393118        500000          1      08-08-2023        182624.93   \n",
       "4           107895        480000          0      08-05-2023         21177.10   \n",
       "\n",
       "   Acct_Cls_Flag  Current_balance  M_Minus_two_Bal  \n",
       "0              0           415351           292972  \n",
       "1              0           396451           123094  \n",
       "2              0            22758            55854  \n",
       "3              0           340244           278305  \n",
       "4              0           317835           131458  "
      ]
     },
     "execution_count": 2,
     "metadata": {},
     "output_type": "execute_result"
    }
   ],
   "source": [
    "df = pd.read_csv(r\"Dataset/Churn_Modelling.csv\")\n",
    "print(df.shape)\n",
    "print(df.columns)\n",
    "df.head()"
   ]
  },
  {
   "cell_type": "code",
   "execution_count": 3,
   "id": "4a52387a",
   "metadata": {},
   "outputs": [],
   "source": [
    "df['ACCT_OPN_DATE'] = pd.to_datetime(df['ACCT_OPN_DATE'],format = \"%d-%m-%Y\")\n",
    "df['Last_Login_Date'] = pd.to_datetime(df['Last_Login_Date'],format = \"%d-%m-%Y\")\n",
    "\n",
    "df[\"Acct_vintage\"] = ((datetime.today() - df['ACCT_OPN_DATE'])/np.timedelta64(1,'D')).astype('int')\n",
    "df[\"Login_vintage\"] = ((datetime.today() - df['Last_Login_Date'])/np.timedelta64(1,'D')).astype('int')"
   ]
  },
  {
   "cell_type": "code",
   "execution_count": 4,
   "id": "579fc1c5",
   "metadata": {},
   "outputs": [
    {
     "data": {
      "text/html": [
       "<div>\n",
       "<style scoped>\n",
       "    .dataframe tbody tr th:only-of-type {\n",
       "        vertical-align: middle;\n",
       "    }\n",
       "\n",
       "    .dataframe tbody tr th {\n",
       "        vertical-align: top;\n",
       "    }\n",
       "\n",
       "    .dataframe thead th {\n",
       "        text-align: right;\n",
       "    }\n",
       "</style>\n",
       "<table border=\"1\" class=\"dataframe\">\n",
       "  <thead>\n",
       "    <tr style=\"text-align: right;\">\n",
       "      <th></th>\n",
       "      <th>CustomerId</th>\n",
       "      <th>CreditScore</th>\n",
       "      <th>Region</th>\n",
       "      <th>Gender</th>\n",
       "      <th>Age</th>\n",
       "      <th>ACCT_OPN_DATE</th>\n",
       "      <th>M_Minus_one_Bal</th>\n",
       "      <th>Total_FD_Amt</th>\n",
       "      <th>HasCrCard</th>\n",
       "      <th>Last_Login_Date</th>\n",
       "      <th>EstimatedSalary</th>\n",
       "      <th>Acct_Cls_Flag</th>\n",
       "      <th>Current_balance</th>\n",
       "      <th>M_Minus_two_Bal</th>\n",
       "      <th>Acct_vintage</th>\n",
       "      <th>Login_vintage</th>\n",
       "    </tr>\n",
       "  </thead>\n",
       "  <tbody>\n",
       "    <tr>\n",
       "      <th>0</th>\n",
       "      <td>15586039</td>\n",
       "      <td>471</td>\n",
       "      <td>Western</td>\n",
       "      <td>Female</td>\n",
       "      <td>36</td>\n",
       "      <td>2023-03-08</td>\n",
       "      <td>304683</td>\n",
       "      <td>490000</td>\n",
       "      <td>0</td>\n",
       "      <td>2023-06-08</td>\n",
       "      <td>96366.70</td>\n",
       "      <td>0</td>\n",
       "      <td>415351</td>\n",
       "      <td>292972</td>\n",
       "      <td>166</td>\n",
       "      <td>74</td>\n",
       "    </tr>\n",
       "    <tr>\n",
       "      <th>1</th>\n",
       "      <td>15723250</td>\n",
       "      <td>519</td>\n",
       "      <td>South</td>\n",
       "      <td>Male</td>\n",
       "      <td>42</td>\n",
       "      <td>2022-12-08</td>\n",
       "      <td>37261</td>\n",
       "      <td>490000</td>\n",
       "      <td>1</td>\n",
       "      <td>2023-06-08</td>\n",
       "      <td>101485.72</td>\n",
       "      <td>0</td>\n",
       "      <td>396451</td>\n",
       "      <td>123094</td>\n",
       "      <td>256</td>\n",
       "      <td>74</td>\n",
       "    </tr>\n",
       "    <tr>\n",
       "      <th>2</th>\n",
       "      <td>15581840</td>\n",
       "      <td>626</td>\n",
       "      <td>South</td>\n",
       "      <td>Male</td>\n",
       "      <td>33</td>\n",
       "      <td>2022-12-08</td>\n",
       "      <td>346591</td>\n",
       "      <td>500000</td>\n",
       "      <td>1</td>\n",
       "      <td>2023-08-08</td>\n",
       "      <td>138504.28</td>\n",
       "      <td>0</td>\n",
       "      <td>22758</td>\n",
       "      <td>55854</td>\n",
       "      <td>256</td>\n",
       "      <td>13</td>\n",
       "    </tr>\n",
       "    <tr>\n",
       "      <th>3</th>\n",
       "      <td>15662238</td>\n",
       "      <td>822</td>\n",
       "      <td>South</td>\n",
       "      <td>Male</td>\n",
       "      <td>37</td>\n",
       "      <td>2023-05-08</td>\n",
       "      <td>393118</td>\n",
       "      <td>500000</td>\n",
       "      <td>1</td>\n",
       "      <td>2023-08-08</td>\n",
       "      <td>182624.93</td>\n",
       "      <td>0</td>\n",
       "      <td>340244</td>\n",
       "      <td>278305</td>\n",
       "      <td>105</td>\n",
       "      <td>13</td>\n",
       "    </tr>\n",
       "    <tr>\n",
       "      <th>4</th>\n",
       "      <td>15795151</td>\n",
       "      <td>705</td>\n",
       "      <td>South</td>\n",
       "      <td>Female</td>\n",
       "      <td>38</td>\n",
       "      <td>2023-05-08</td>\n",
       "      <td>107895</td>\n",
       "      <td>480000</td>\n",
       "      <td>0</td>\n",
       "      <td>2023-05-08</td>\n",
       "      <td>21177.10</td>\n",
       "      <td>0</td>\n",
       "      <td>317835</td>\n",
       "      <td>131458</td>\n",
       "      <td>105</td>\n",
       "      <td>105</td>\n",
       "    </tr>\n",
       "  </tbody>\n",
       "</table>\n",
       "</div>"
      ],
      "text/plain": [
       "   CustomerId  CreditScore   Region  Gender  Age ACCT_OPN_DATE  \\\n",
       "0    15586039          471  Western  Female   36    2023-03-08   \n",
       "1    15723250          519    South    Male   42    2022-12-08   \n",
       "2    15581840          626    South    Male   33    2022-12-08   \n",
       "3    15662238          822    South    Male   37    2023-05-08   \n",
       "4    15795151          705    South  Female   38    2023-05-08   \n",
       "\n",
       "   M_Minus_one_Bal  Total_FD_Amt  HasCrCard Last_Login_Date  EstimatedSalary  \\\n",
       "0           304683        490000          0      2023-06-08         96366.70   \n",
       "1            37261        490000          1      2023-06-08        101485.72   \n",
       "2           346591        500000          1      2023-08-08        138504.28   \n",
       "3           393118        500000          1      2023-08-08        182624.93   \n",
       "4           107895        480000          0      2023-05-08         21177.10   \n",
       "\n",
       "   Acct_Cls_Flag  Current_balance  M_Minus_two_Bal  Acct_vintage  \\\n",
       "0              0           415351           292972           166   \n",
       "1              0           396451           123094           256   \n",
       "2              0            22758            55854           256   \n",
       "3              0           340244           278305           105   \n",
       "4              0           317835           131458           105   \n",
       "\n",
       "   Login_vintage  \n",
       "0             74  \n",
       "1             74  \n",
       "2             13  \n",
       "3             13  \n",
       "4            105  "
      ]
     },
     "execution_count": 4,
     "metadata": {},
     "output_type": "execute_result"
    }
   ],
   "source": [
    "df.head()"
   ]
  },
  {
   "cell_type": "code",
   "execution_count": 5,
   "id": "80b715d6",
   "metadata": {},
   "outputs": [],
   "source": [
    "# EDA"
   ]
  },
  {
   "cell_type": "code",
   "execution_count": 6,
   "id": "ea9d8df0",
   "metadata": {},
   "outputs": [
    {
     "data": {
      "text/plain": [
       "CustomerId         0\n",
       "CreditScore        0\n",
       "Region             0\n",
       "Gender             0\n",
       "Age                0\n",
       "ACCT_OPN_DATE      0\n",
       "M_Minus_one_Bal    0\n",
       "Total_FD_Amt       0\n",
       "HasCrCard          0\n",
       "Last_Login_Date    0\n",
       "EstimatedSalary    0\n",
       "Acct_Cls_Flag      0\n",
       "Current_balance    0\n",
       "M_Minus_two_Bal    0\n",
       "Acct_vintage       0\n",
       "Login_vintage      0\n",
       "dtype: int64"
      ]
     },
     "execution_count": 6,
     "metadata": {},
     "output_type": "execute_result"
    }
   ],
   "source": [
    "df.isna().sum()"
   ]
  },
  {
   "cell_type": "code",
   "execution_count": 7,
   "id": "dc37348c",
   "metadata": {},
   "outputs": [
    {
     "data": {
      "text/plain": [
       "CustomerId                  int64\n",
       "CreditScore                 int64\n",
       "Region                     object\n",
       "Gender                     object\n",
       "Age                         int64\n",
       "ACCT_OPN_DATE      datetime64[ns]\n",
       "M_Minus_one_Bal             int64\n",
       "Total_FD_Amt                int64\n",
       "HasCrCard                   int64\n",
       "Last_Login_Date    datetime64[ns]\n",
       "EstimatedSalary           float64\n",
       "Acct_Cls_Flag               int64\n",
       "Current_balance             int64\n",
       "M_Minus_two_Bal             int64\n",
       "Acct_vintage                int32\n",
       "Login_vintage               int32\n",
       "dtype: object"
      ]
     },
     "execution_count": 7,
     "metadata": {},
     "output_type": "execute_result"
    }
   ],
   "source": [
    "df.dtypes"
   ]
  },
  {
   "cell_type": "code",
   "execution_count": 8,
   "id": "945fa22a",
   "metadata": {},
   "outputs": [
    {
     "data": {
      "text/html": [
       "<div>\n",
       "<style scoped>\n",
       "    .dataframe tbody tr th:only-of-type {\n",
       "        vertical-align: middle;\n",
       "    }\n",
       "\n",
       "    .dataframe tbody tr th {\n",
       "        vertical-align: top;\n",
       "    }\n",
       "\n",
       "    .dataframe thead th {\n",
       "        text-align: right;\n",
       "    }\n",
       "</style>\n",
       "<table border=\"1\" class=\"dataframe\">\n",
       "  <thead>\n",
       "    <tr style=\"text-align: right;\">\n",
       "      <th></th>\n",
       "      <th>CustomerId</th>\n",
       "      <th>CreditScore</th>\n",
       "      <th>Age</th>\n",
       "      <th>M_Minus_one_Bal</th>\n",
       "      <th>Total_FD_Amt</th>\n",
       "      <th>HasCrCard</th>\n",
       "      <th>EstimatedSalary</th>\n",
       "      <th>Acct_Cls_Flag</th>\n",
       "      <th>Current_balance</th>\n",
       "      <th>M_Minus_two_Bal</th>\n",
       "      <th>Acct_vintage</th>\n",
       "      <th>Login_vintage</th>\n",
       "    </tr>\n",
       "  </thead>\n",
       "  <tbody>\n",
       "    <tr>\n",
       "      <th>count</th>\n",
       "      <td>1.000000e+04</td>\n",
       "      <td>10000.000000</td>\n",
       "      <td>10000.000000</td>\n",
       "      <td>10000.00000</td>\n",
       "      <td>10000.000000</td>\n",
       "      <td>10000.000000</td>\n",
       "      <td>10000.000000</td>\n",
       "      <td>10000.000000</td>\n",
       "      <td>10000.000000</td>\n",
       "      <td>10000.000000</td>\n",
       "      <td>10000.000000</td>\n",
       "      <td>10000.000000</td>\n",
       "    </tr>\n",
       "    <tr>\n",
       "      <th>mean</th>\n",
       "      <td>1.569094e+07</td>\n",
       "      <td>650.528800</td>\n",
       "      <td>38.921800</td>\n",
       "      <td>198207.09300</td>\n",
       "      <td>247731.000000</td>\n",
       "      <td>0.500000</td>\n",
       "      <td>100090.239881</td>\n",
       "      <td>0.203700</td>\n",
       "      <td>252054.603000</td>\n",
       "      <td>152114.889300</td>\n",
       "      <td>165.396500</td>\n",
       "      <td>50.778600</td>\n",
       "    </tr>\n",
       "    <tr>\n",
       "      <th>std</th>\n",
       "      <td>7.193619e+04</td>\n",
       "      <td>96.653299</td>\n",
       "      <td>10.487806</td>\n",
       "      <td>114969.06013</td>\n",
       "      <td>145079.931271</td>\n",
       "      <td>0.500025</td>\n",
       "      <td>57510.492818</td>\n",
       "      <td>0.402769</td>\n",
       "      <td>143646.738805</td>\n",
       "      <td>86468.450284</td>\n",
       "      <td>87.540422</td>\n",
       "      <td>30.380548</td>\n",
       "    </tr>\n",
       "    <tr>\n",
       "      <th>min</th>\n",
       "      <td>1.556570e+07</td>\n",
       "      <td>350.000000</td>\n",
       "      <td>18.000000</td>\n",
       "      <td>1000.00000</td>\n",
       "      <td>0.000000</td>\n",
       "      <td>0.000000</td>\n",
       "      <td>11.580000</td>\n",
       "      <td>0.000000</td>\n",
       "      <td>1055.000000</td>\n",
       "      <td>2013.000000</td>\n",
       "      <td>13.000000</td>\n",
       "      <td>13.000000</td>\n",
       "    </tr>\n",
       "    <tr>\n",
       "      <th>25%</th>\n",
       "      <td>1.562853e+07</td>\n",
       "      <td>584.000000</td>\n",
       "      <td>32.000000</td>\n",
       "      <td>99148.00000</td>\n",
       "      <td>120000.000000</td>\n",
       "      <td>0.000000</td>\n",
       "      <td>51002.110000</td>\n",
       "      <td>0.000000</td>\n",
       "      <td>129622.500000</td>\n",
       "      <td>76116.000000</td>\n",
       "      <td>105.000000</td>\n",
       "      <td>13.000000</td>\n",
       "    </tr>\n",
       "    <tr>\n",
       "      <th>50%</th>\n",
       "      <td>1.569074e+07</td>\n",
       "      <td>652.000000</td>\n",
       "      <td>37.000000</td>\n",
       "      <td>197064.50000</td>\n",
       "      <td>240000.000000</td>\n",
       "      <td>0.500000</td>\n",
       "      <td>100193.915000</td>\n",
       "      <td>0.000000</td>\n",
       "      <td>251741.500000</td>\n",
       "      <td>152882.500000</td>\n",
       "      <td>166.000000</td>\n",
       "      <td>44.000000</td>\n",
       "    </tr>\n",
       "    <tr>\n",
       "      <th>75%</th>\n",
       "      <td>1.575323e+07</td>\n",
       "      <td>718.000000</td>\n",
       "      <td>44.000000</td>\n",
       "      <td>297754.00000</td>\n",
       "      <td>370000.000000</td>\n",
       "      <td>1.000000</td>\n",
       "      <td>149388.247500</td>\n",
       "      <td>0.000000</td>\n",
       "      <td>376114.000000</td>\n",
       "      <td>227375.750000</td>\n",
       "      <td>225.000000</td>\n",
       "      <td>74.000000</td>\n",
       "    </tr>\n",
       "    <tr>\n",
       "      <th>max</th>\n",
       "      <td>1.581569e+07</td>\n",
       "      <td>850.000000</td>\n",
       "      <td>92.000000</td>\n",
       "      <td>399979.00000</td>\n",
       "      <td>500000.000000</td>\n",
       "      <td>1.000000</td>\n",
       "      <td>199992.480000</td>\n",
       "      <td>1.000000</td>\n",
       "      <td>499973.000000</td>\n",
       "      <td>299966.000000</td>\n",
       "      <td>317.000000</td>\n",
       "      <td>105.000000</td>\n",
       "    </tr>\n",
       "  </tbody>\n",
       "</table>\n",
       "</div>"
      ],
      "text/plain": [
       "         CustomerId   CreditScore           Age  M_Minus_one_Bal  \\\n",
       "count  1.000000e+04  10000.000000  10000.000000      10000.00000   \n",
       "mean   1.569094e+07    650.528800     38.921800     198207.09300   \n",
       "std    7.193619e+04     96.653299     10.487806     114969.06013   \n",
       "min    1.556570e+07    350.000000     18.000000       1000.00000   \n",
       "25%    1.562853e+07    584.000000     32.000000      99148.00000   \n",
       "50%    1.569074e+07    652.000000     37.000000     197064.50000   \n",
       "75%    1.575323e+07    718.000000     44.000000     297754.00000   \n",
       "max    1.581569e+07    850.000000     92.000000     399979.00000   \n",
       "\n",
       "        Total_FD_Amt     HasCrCard  EstimatedSalary  Acct_Cls_Flag  \\\n",
       "count   10000.000000  10000.000000     10000.000000   10000.000000   \n",
       "mean   247731.000000      0.500000    100090.239881       0.203700   \n",
       "std    145079.931271      0.500025     57510.492818       0.402769   \n",
       "min         0.000000      0.000000        11.580000       0.000000   \n",
       "25%    120000.000000      0.000000     51002.110000       0.000000   \n",
       "50%    240000.000000      0.500000    100193.915000       0.000000   \n",
       "75%    370000.000000      1.000000    149388.247500       0.000000   \n",
       "max    500000.000000      1.000000    199992.480000       1.000000   \n",
       "\n",
       "       Current_balance  M_Minus_two_Bal  Acct_vintage  Login_vintage  \n",
       "count     10000.000000     10000.000000  10000.000000   10000.000000  \n",
       "mean     252054.603000    152114.889300    165.396500      50.778600  \n",
       "std      143646.738805     86468.450284     87.540422      30.380548  \n",
       "min        1055.000000      2013.000000     13.000000      13.000000  \n",
       "25%      129622.500000     76116.000000    105.000000      13.000000  \n",
       "50%      251741.500000    152882.500000    166.000000      44.000000  \n",
       "75%      376114.000000    227375.750000    225.000000      74.000000  \n",
       "max      499973.000000    299966.000000    317.000000     105.000000  "
      ]
     },
     "execution_count": 8,
     "metadata": {},
     "output_type": "execute_result"
    }
   ],
   "source": [
    "df.describe()"
   ]
  },
  {
   "cell_type": "code",
   "execution_count": 9,
   "id": "f3fee9ea",
   "metadata": {},
   "outputs": [],
   "source": [
    "# Bucketing Credit Score\n",
    "\n",
    "cuts = [0,580,660,720,800,10000]  ## created using business knowledge\n",
    "labels = [\"a.<580\",\"b.580-660\",\"c.660-720\",\"d.720-800\",\"e.800+\"]\n",
    "df['CreditScore_buckets'] = pd.cut(df['CreditScore'],\n",
    "                            cuts,\n",
    "                            labels=labels)\n",
    "\n",
    "\n",
    "cuts = [18,30,40,60,100]  ## created using business knowledge\n",
    "labels = [\"a.18-30\",\"b.30-40\",\"c.40-60\",\"d.60+\"]\n",
    "df['Age_buckets'] = pd.cut(df['Age'],\n",
    "                            cuts,\n",
    "                            labels=labels)\n"
   ]
  },
  {
   "cell_type": "code",
   "execution_count": 10,
   "id": "9cc23763",
   "metadata": {},
   "outputs": [
    {
     "data": {
      "text/plain": [
       "b.580-660    29.54\n",
       "a.<580       23.93\n",
       "c.660-720    22.45\n",
       "d.720-800    17.63\n",
       "e.800+        6.45\n",
       "Name: CreditScore_buckets, dtype: float64"
      ]
     },
     "execution_count": 10,
     "metadata": {},
     "output_type": "execute_result"
    }
   ],
   "source": [
    "df['CreditScore_buckets'].value_counts()*100/len(df)"
   ]
  },
  {
   "cell_type": "code",
   "execution_count": 11,
   "id": "be550d4d",
   "metadata": {},
   "outputs": [
    {
     "data": {
      "text/plain": [
       "b.30-40    44.51\n",
       "c.40-60    31.17\n",
       "a.18-30    19.46\n",
       "d.60+       4.64\n",
       "Name: Age_buckets, dtype: float64"
      ]
     },
     "execution_count": 11,
     "metadata": {},
     "output_type": "execute_result"
    }
   ],
   "source": [
    "df['Age_buckets'].value_counts()*100/len(df)"
   ]
  },
  {
   "cell_type": "code",
   "execution_count": 12,
   "id": "0e1feffd",
   "metadata": {},
   "outputs": [
    {
     "data": {
      "text/plain": [
       "South      50.14\n",
       "Western    25.09\n",
       "North      24.77\n",
       "Name: Region, dtype: float64"
      ]
     },
     "execution_count": 12,
     "metadata": {},
     "output_type": "execute_result"
    }
   ],
   "source": [
    "df['Region'].value_counts()*100/len(df)"
   ]
  },
  {
   "cell_type": "code",
   "execution_count": 13,
   "id": "85ebe245",
   "metadata": {},
   "outputs": [
    {
     "data": {
      "text/plain": [
       "Male      59.31\n",
       "Female    40.69\n",
       "Name: Gender, dtype: float64"
      ]
     },
     "execution_count": 13,
     "metadata": {},
     "output_type": "execute_result"
    }
   ],
   "source": [
    "df['Gender'].value_counts()*100/len(df)"
   ]
  },
  {
   "cell_type": "code",
   "execution_count": null,
   "id": "6dfa6ea4",
   "metadata": {},
   "outputs": [],
   "source": []
  },
  {
   "cell_type": "code",
   "execution_count": 14,
   "id": "6e106652",
   "metadata": {},
   "outputs": [
    {
     "name": "stdout",
     "output_type": "stream",
     "text": [
      "(10000, 2)\n",
      "(10000, 18)\n",
      "(10000, 19)\n"
     ]
    }
   ],
   "source": [
    "# Creating Target\n",
    "\n",
    "target = pd.read_csv(r\"Dataset/Target_rollrate_analysis_v1.csv\")\n",
    "print(target.shape)\n",
    "\n",
    "print(df.shape)\n",
    "df = pd.merge(df,target,on = 'CustomerId',how = 'inner')\n",
    "print(df.shape)"
   ]
  },
  {
   "cell_type": "code",
   "execution_count": 15,
   "id": "f06dd99b",
   "metadata": {},
   "outputs": [
    {
     "data": {
      "text/html": [
       "<div>\n",
       "<style scoped>\n",
       "    .dataframe tbody tr th:only-of-type {\n",
       "        vertical-align: middle;\n",
       "    }\n",
       "\n",
       "    .dataframe tbody tr th {\n",
       "        vertical-align: top;\n",
       "    }\n",
       "\n",
       "    .dataframe thead th {\n",
       "        text-align: right;\n",
       "    }\n",
       "</style>\n",
       "<table border=\"1\" class=\"dataframe\">\n",
       "  <thead>\n",
       "    <tr style=\"text-align: right;\">\n",
       "      <th></th>\n",
       "      <th>CustomerId</th>\n",
       "      <th>CreditScore</th>\n",
       "      <th>Region</th>\n",
       "      <th>Gender</th>\n",
       "      <th>Age</th>\n",
       "      <th>ACCT_OPN_DATE</th>\n",
       "      <th>M_Minus_one_Bal</th>\n",
       "      <th>Total_FD_Amt</th>\n",
       "      <th>HasCrCard</th>\n",
       "      <th>Last_Login_Date</th>\n",
       "      <th>EstimatedSalary</th>\n",
       "      <th>Acct_Cls_Flag</th>\n",
       "      <th>Current_balance</th>\n",
       "      <th>M_Minus_two_Bal</th>\n",
       "      <th>Acct_vintage</th>\n",
       "      <th>Login_vintage</th>\n",
       "      <th>CreditScore_buckets</th>\n",
       "      <th>Age_buckets</th>\n",
       "      <th>Churn</th>\n",
       "    </tr>\n",
       "  </thead>\n",
       "  <tbody>\n",
       "    <tr>\n",
       "      <th>0</th>\n",
       "      <td>15586039</td>\n",
       "      <td>471</td>\n",
       "      <td>Western</td>\n",
       "      <td>Female</td>\n",
       "      <td>36</td>\n",
       "      <td>2023-03-08</td>\n",
       "      <td>304683</td>\n",
       "      <td>490000</td>\n",
       "      <td>0</td>\n",
       "      <td>2023-06-08</td>\n",
       "      <td>96366.70</td>\n",
       "      <td>0</td>\n",
       "      <td>415351</td>\n",
       "      <td>292972</td>\n",
       "      <td>166</td>\n",
       "      <td>74</td>\n",
       "      <td>a.&lt;580</td>\n",
       "      <td>b.30-40</td>\n",
       "      <td>0</td>\n",
       "    </tr>\n",
       "    <tr>\n",
       "      <th>1</th>\n",
       "      <td>15723250</td>\n",
       "      <td>519</td>\n",
       "      <td>South</td>\n",
       "      <td>Male</td>\n",
       "      <td>42</td>\n",
       "      <td>2022-12-08</td>\n",
       "      <td>37261</td>\n",
       "      <td>490000</td>\n",
       "      <td>1</td>\n",
       "      <td>2023-06-08</td>\n",
       "      <td>101485.72</td>\n",
       "      <td>0</td>\n",
       "      <td>396451</td>\n",
       "      <td>123094</td>\n",
       "      <td>256</td>\n",
       "      <td>74</td>\n",
       "      <td>a.&lt;580</td>\n",
       "      <td>c.40-60</td>\n",
       "      <td>0</td>\n",
       "    </tr>\n",
       "  </tbody>\n",
       "</table>\n",
       "</div>"
      ],
      "text/plain": [
       "   CustomerId  CreditScore   Region  Gender  Age ACCT_OPN_DATE  \\\n",
       "0    15586039          471  Western  Female   36    2023-03-08   \n",
       "1    15723250          519    South    Male   42    2022-12-08   \n",
       "\n",
       "   M_Minus_one_Bal  Total_FD_Amt  HasCrCard Last_Login_Date  EstimatedSalary  \\\n",
       "0           304683        490000          0      2023-06-08         96366.70   \n",
       "1            37261        490000          1      2023-06-08        101485.72   \n",
       "\n",
       "   Acct_Cls_Flag  Current_balance  M_Minus_two_Bal  Acct_vintage  \\\n",
       "0              0           415351           292972           166   \n",
       "1              0           396451           123094           256   \n",
       "\n",
       "   Login_vintage CreditScore_buckets Age_buckets  Churn  \n",
       "0             74              a.<580     b.30-40      0  \n",
       "1             74              a.<580     c.40-60      0  "
      ]
     },
     "execution_count": 15,
     "metadata": {},
     "output_type": "execute_result"
    }
   ],
   "source": [
    "df.head(2)"
   ]
  },
  {
   "cell_type": "code",
   "execution_count": null,
   "id": "9c399d87",
   "metadata": {},
   "outputs": [],
   "source": []
  },
  {
   "cell_type": "code",
   "execution_count": 16,
   "id": "78a08141",
   "metadata": {},
   "outputs": [
    {
     "data": {
      "text/plain": [
       "Index(['CustomerId', 'CreditScore', 'Region', 'Gender', 'Age', 'ACCT_OPN_DATE',\n",
       "       'M_Minus_one_Bal', 'Total_FD_Amt', 'HasCrCard', 'Last_Login_Date',\n",
       "       'EstimatedSalary', 'Acct_Cls_Flag', 'Current_balance',\n",
       "       'M_Minus_two_Bal', 'Acct_vintage', 'Login_vintage',\n",
       "       'CreditScore_buckets', 'Age_buckets', 'Churn'],\n",
       "      dtype='object')"
      ]
     },
     "execution_count": 16,
     "metadata": {},
     "output_type": "execute_result"
    }
   ],
   "source": [
    "df.columns"
   ]
  },
  {
   "cell_type": "code",
   "execution_count": null,
   "id": "b754f702",
   "metadata": {},
   "outputs": [],
   "source": []
  },
  {
   "cell_type": "code",
   "execution_count": 17,
   "id": "810850a9",
   "metadata": {},
   "outputs": [
    {
     "data": {
      "text/html": [
       "<div>\n",
       "<style scoped>\n",
       "    .dataframe tbody tr th:only-of-type {\n",
       "        vertical-align: middle;\n",
       "    }\n",
       "\n",
       "    .dataframe tbody tr th {\n",
       "        vertical-align: top;\n",
       "    }\n",
       "\n",
       "    .dataframe thead th {\n",
       "        text-align: right;\n",
       "    }\n",
       "</style>\n",
       "<table border=\"1\" class=\"dataframe\">\n",
       "  <thead>\n",
       "    <tr style=\"text-align: right;\">\n",
       "      <th></th>\n",
       "      <th>CustomerId</th>\n",
       "      <th>CreditScore</th>\n",
       "      <th>Age</th>\n",
       "      <th>ACCT_OPN_DATE</th>\n",
       "      <th>M_Minus_one_Bal</th>\n",
       "      <th>Total_FD_Amt</th>\n",
       "      <th>HasCrCard</th>\n",
       "      <th>Last_Login_Date</th>\n",
       "      <th>EstimatedSalary</th>\n",
       "      <th>Acct_Cls_Flag</th>\n",
       "      <th>...</th>\n",
       "      <th>Gender_Male</th>\n",
       "      <th>CreditScore_buckets_a.&lt;580</th>\n",
       "      <th>CreditScore_buckets_b.580-660</th>\n",
       "      <th>CreditScore_buckets_c.660-720</th>\n",
       "      <th>CreditScore_buckets_d.720-800</th>\n",
       "      <th>CreditScore_buckets_e.800+</th>\n",
       "      <th>Age_buckets_a.18-30</th>\n",
       "      <th>Age_buckets_b.30-40</th>\n",
       "      <th>Age_buckets_c.40-60</th>\n",
       "      <th>Age_buckets_d.60+</th>\n",
       "    </tr>\n",
       "  </thead>\n",
       "  <tbody>\n",
       "    <tr>\n",
       "      <th>0</th>\n",
       "      <td>15586039</td>\n",
       "      <td>471</td>\n",
       "      <td>36</td>\n",
       "      <td>2023-03-08</td>\n",
       "      <td>304683</td>\n",
       "      <td>490000</td>\n",
       "      <td>0</td>\n",
       "      <td>2023-06-08</td>\n",
       "      <td>96366.70</td>\n",
       "      <td>0</td>\n",
       "      <td>...</td>\n",
       "      <td>0</td>\n",
       "      <td>1</td>\n",
       "      <td>0</td>\n",
       "      <td>0</td>\n",
       "      <td>0</td>\n",
       "      <td>0</td>\n",
       "      <td>0</td>\n",
       "      <td>1</td>\n",
       "      <td>0</td>\n",
       "      <td>0</td>\n",
       "    </tr>\n",
       "    <tr>\n",
       "      <th>1</th>\n",
       "      <td>15723250</td>\n",
       "      <td>519</td>\n",
       "      <td>42</td>\n",
       "      <td>2022-12-08</td>\n",
       "      <td>37261</td>\n",
       "      <td>490000</td>\n",
       "      <td>1</td>\n",
       "      <td>2023-06-08</td>\n",
       "      <td>101485.72</td>\n",
       "      <td>0</td>\n",
       "      <td>...</td>\n",
       "      <td>1</td>\n",
       "      <td>1</td>\n",
       "      <td>0</td>\n",
       "      <td>0</td>\n",
       "      <td>0</td>\n",
       "      <td>0</td>\n",
       "      <td>0</td>\n",
       "      <td>0</td>\n",
       "      <td>1</td>\n",
       "      <td>0</td>\n",
       "    </tr>\n",
       "    <tr>\n",
       "      <th>2</th>\n",
       "      <td>15581840</td>\n",
       "      <td>626</td>\n",
       "      <td>33</td>\n",
       "      <td>2022-12-08</td>\n",
       "      <td>346591</td>\n",
       "      <td>500000</td>\n",
       "      <td>1</td>\n",
       "      <td>2023-08-08</td>\n",
       "      <td>138504.28</td>\n",
       "      <td>0</td>\n",
       "      <td>...</td>\n",
       "      <td>1</td>\n",
       "      <td>0</td>\n",
       "      <td>1</td>\n",
       "      <td>0</td>\n",
       "      <td>0</td>\n",
       "      <td>0</td>\n",
       "      <td>0</td>\n",
       "      <td>1</td>\n",
       "      <td>0</td>\n",
       "      <td>0</td>\n",
       "    </tr>\n",
       "    <tr>\n",
       "      <th>3</th>\n",
       "      <td>15662238</td>\n",
       "      <td>822</td>\n",
       "      <td>37</td>\n",
       "      <td>2023-05-08</td>\n",
       "      <td>393118</td>\n",
       "      <td>500000</td>\n",
       "      <td>1</td>\n",
       "      <td>2023-08-08</td>\n",
       "      <td>182624.93</td>\n",
       "      <td>0</td>\n",
       "      <td>...</td>\n",
       "      <td>1</td>\n",
       "      <td>0</td>\n",
       "      <td>0</td>\n",
       "      <td>0</td>\n",
       "      <td>0</td>\n",
       "      <td>1</td>\n",
       "      <td>0</td>\n",
       "      <td>1</td>\n",
       "      <td>0</td>\n",
       "      <td>0</td>\n",
       "    </tr>\n",
       "    <tr>\n",
       "      <th>4</th>\n",
       "      <td>15795151</td>\n",
       "      <td>705</td>\n",
       "      <td>38</td>\n",
       "      <td>2023-05-08</td>\n",
       "      <td>107895</td>\n",
       "      <td>480000</td>\n",
       "      <td>0</td>\n",
       "      <td>2023-05-08</td>\n",
       "      <td>21177.10</td>\n",
       "      <td>0</td>\n",
       "      <td>...</td>\n",
       "      <td>0</td>\n",
       "      <td>0</td>\n",
       "      <td>0</td>\n",
       "      <td>1</td>\n",
       "      <td>0</td>\n",
       "      <td>0</td>\n",
       "      <td>0</td>\n",
       "      <td>1</td>\n",
       "      <td>0</td>\n",
       "      <td>0</td>\n",
       "    </tr>\n",
       "  </tbody>\n",
       "</table>\n",
       "<p>5 rows × 29 columns</p>\n",
       "</div>"
      ],
      "text/plain": [
       "   CustomerId  CreditScore  Age ACCT_OPN_DATE  M_Minus_one_Bal  Total_FD_Amt  \\\n",
       "0    15586039          471   36    2023-03-08           304683        490000   \n",
       "1    15723250          519   42    2022-12-08            37261        490000   \n",
       "2    15581840          626   33    2022-12-08           346591        500000   \n",
       "3    15662238          822   37    2023-05-08           393118        500000   \n",
       "4    15795151          705   38    2023-05-08           107895        480000   \n",
       "\n",
       "   HasCrCard Last_Login_Date  EstimatedSalary  Acct_Cls_Flag  ...  \\\n",
       "0          0      2023-06-08         96366.70              0  ...   \n",
       "1          1      2023-06-08        101485.72              0  ...   \n",
       "2          1      2023-08-08        138504.28              0  ...   \n",
       "3          1      2023-08-08        182624.93              0  ...   \n",
       "4          0      2023-05-08         21177.10              0  ...   \n",
       "\n",
       "   Gender_Male  CreditScore_buckets_a.<580  CreditScore_buckets_b.580-660  \\\n",
       "0            0                           1                              0   \n",
       "1            1                           1                              0   \n",
       "2            1                           0                              1   \n",
       "3            1                           0                              0   \n",
       "4            0                           0                              0   \n",
       "\n",
       "   CreditScore_buckets_c.660-720  CreditScore_buckets_d.720-800  \\\n",
       "0                              0                              0   \n",
       "1                              0                              0   \n",
       "2                              0                              0   \n",
       "3                              0                              0   \n",
       "4                              1                              0   \n",
       "\n",
       "   CreditScore_buckets_e.800+  Age_buckets_a.18-30  Age_buckets_b.30-40  \\\n",
       "0                           0                    0                    1   \n",
       "1                           0                    0                    0   \n",
       "2                           0                    0                    1   \n",
       "3                           1                    0                    1   \n",
       "4                           0                    0                    1   \n",
       "\n",
       "   Age_buckets_c.40-60  Age_buckets_d.60+  \n",
       "0                    0                  0  \n",
       "1                    1                  0  \n",
       "2                    0                  0  \n",
       "3                    0                  0  \n",
       "4                    0                  0  \n",
       "\n",
       "[5 rows x 29 columns]"
      ]
     },
     "execution_count": 17,
     "metadata": {},
     "output_type": "execute_result"
    }
   ],
   "source": [
    "df_dummies = pd.get_dummies(df)\n",
    "df_dummies.head()"
   ]
  },
  {
   "cell_type": "code",
   "execution_count": 18,
   "id": "f2ed3caa",
   "metadata": {},
   "outputs": [
    {
     "data": {
      "text/plain": [
       "<AxesSubplot:>"
      ]
     },
     "execution_count": 18,
     "metadata": {},
     "output_type": "execute_result"
    },
    {
     "data": {
      "image/png": "[encoded data removed]",
      "text/plain": [
       "<Figure size 1080x576 with 1 Axes>"
      ]
     },
     "metadata": {
      "needs_background": "light"
     },
     "output_type": "display_data"
    }
   ],
   "source": [
    "plt.figure(figsize=(15,8))\n",
    "df_dummies.corr()['Churn'].sort_values(ascending = False).plot(kind='bar')"
   ]
  },
  {
   "cell_type": "code",
   "execution_count": 19,
   "id": "15afdd42",
   "metadata": {},
   "outputs": [
    {
     "data": {
      "text/plain": [
       "Index(['CustomerId', 'CreditScore', 'Region', 'Gender', 'Age', 'ACCT_OPN_DATE',\n",
       "       'M_Minus_one_Bal', 'Total_FD_Amt', 'HasCrCard', 'Last_Login_Date',\n",
       "       'EstimatedSalary', 'Acct_Cls_Flag', 'Current_balance',\n",
       "       'M_Minus_two_Bal', 'Acct_vintage', 'Login_vintage',\n",
       "       'CreditScore_buckets', 'Age_buckets', 'Churn'],\n",
       "      dtype='object')"
      ]
     },
     "execution_count": 19,
     "metadata": {},
     "output_type": "execute_result"
    }
   ],
   "source": [
    "df.columns"
   ]
  },
  {
   "cell_type": "code",
   "execution_count": 20,
   "id": "971e2a27",
   "metadata": {},
   "outputs": [
    {
     "data": {
      "text/html": [
       "<div>\n",
       "<style scoped>\n",
       "    .dataframe tbody tr th:only-of-type {\n",
       "        vertical-align: middle;\n",
       "    }\n",
       "\n",
       "    .dataframe tbody tr th {\n",
       "        vertical-align: top;\n",
       "    }\n",
       "\n",
       "    .dataframe thead th {\n",
       "        text-align: right;\n",
       "    }\n",
       "</style>\n",
       "<table border=\"1\" class=\"dataframe\">\n",
       "  <thead>\n",
       "    <tr style=\"text-align: right;\">\n",
       "      <th></th>\n",
       "      <th>CustomerId</th>\n",
       "      <th>CreditScore</th>\n",
       "      <th>Region</th>\n",
       "      <th>Gender</th>\n",
       "      <th>Age</th>\n",
       "      <th>ACCT_OPN_DATE</th>\n",
       "      <th>M_Minus_one_Bal</th>\n",
       "      <th>Total_FD_Amt</th>\n",
       "      <th>HasCrCard</th>\n",
       "      <th>Last_Login_Date</th>\n",
       "      <th>EstimatedSalary</th>\n",
       "      <th>Acct_Cls_Flag</th>\n",
       "      <th>Current_balance</th>\n",
       "      <th>M_Minus_two_Bal</th>\n",
       "      <th>Acct_vintage</th>\n",
       "      <th>Login_vintage</th>\n",
       "      <th>CreditScore_buckets</th>\n",
       "      <th>Age_buckets</th>\n",
       "      <th>Churn</th>\n",
       "    </tr>\n",
       "  </thead>\n",
       "  <tbody>\n",
       "    <tr>\n",
       "      <th>0</th>\n",
       "      <td>15586039</td>\n",
       "      <td>471</td>\n",
       "      <td>Western</td>\n",
       "      <td>Female</td>\n",
       "      <td>36</td>\n",
       "      <td>2023-03-08</td>\n",
       "      <td>304683</td>\n",
       "      <td>490000</td>\n",
       "      <td>0</td>\n",
       "      <td>2023-06-08</td>\n",
       "      <td>96366.70</td>\n",
       "      <td>0</td>\n",
       "      <td>415351</td>\n",
       "      <td>292972</td>\n",
       "      <td>166</td>\n",
       "      <td>74</td>\n",
       "      <td>a.&lt;580</td>\n",
       "      <td>b.30-40</td>\n",
       "      <td>0</td>\n",
       "    </tr>\n",
       "    <tr>\n",
       "      <th>1</th>\n",
       "      <td>15723250</td>\n",
       "      <td>519</td>\n",
       "      <td>South</td>\n",
       "      <td>Male</td>\n",
       "      <td>42</td>\n",
       "      <td>2022-12-08</td>\n",
       "      <td>37261</td>\n",
       "      <td>490000</td>\n",
       "      <td>1</td>\n",
       "      <td>2023-06-08</td>\n",
       "      <td>101485.72</td>\n",
       "      <td>0</td>\n",
       "      <td>396451</td>\n",
       "      <td>123094</td>\n",
       "      <td>256</td>\n",
       "      <td>74</td>\n",
       "      <td>a.&lt;580</td>\n",
       "      <td>c.40-60</td>\n",
       "      <td>0</td>\n",
       "    </tr>\n",
       "    <tr>\n",
       "      <th>2</th>\n",
       "      <td>15581840</td>\n",
       "      <td>626</td>\n",
       "      <td>South</td>\n",
       "      <td>Male</td>\n",
       "      <td>33</td>\n",
       "      <td>2022-12-08</td>\n",
       "      <td>346591</td>\n",
       "      <td>500000</td>\n",
       "      <td>1</td>\n",
       "      <td>2023-08-08</td>\n",
       "      <td>138504.28</td>\n",
       "      <td>0</td>\n",
       "      <td>22758</td>\n",
       "      <td>55854</td>\n",
       "      <td>256</td>\n",
       "      <td>13</td>\n",
       "      <td>b.580-660</td>\n",
       "      <td>b.30-40</td>\n",
       "      <td>1</td>\n",
       "    </tr>\n",
       "    <tr>\n",
       "      <th>3</th>\n",
       "      <td>15662238</td>\n",
       "      <td>822</td>\n",
       "      <td>South</td>\n",
       "      <td>Male</td>\n",
       "      <td>37</td>\n",
       "      <td>2023-05-08</td>\n",
       "      <td>393118</td>\n",
       "      <td>500000</td>\n",
       "      <td>1</td>\n",
       "      <td>2023-08-08</td>\n",
       "      <td>182624.93</td>\n",
       "      <td>0</td>\n",
       "      <td>340244</td>\n",
       "      <td>278305</td>\n",
       "      <td>105</td>\n",
       "      <td>13</td>\n",
       "      <td>e.800+</td>\n",
       "      <td>b.30-40</td>\n",
       "      <td>0</td>\n",
       "    </tr>\n",
       "    <tr>\n",
       "      <th>4</th>\n",
       "      <td>15795151</td>\n",
       "      <td>705</td>\n",
       "      <td>South</td>\n",
       "      <td>Female</td>\n",
       "      <td>38</td>\n",
       "      <td>2023-05-08</td>\n",
       "      <td>107895</td>\n",
       "      <td>480000</td>\n",
       "      <td>0</td>\n",
       "      <td>2023-05-08</td>\n",
       "      <td>21177.10</td>\n",
       "      <td>0</td>\n",
       "      <td>317835</td>\n",
       "      <td>131458</td>\n",
       "      <td>105</td>\n",
       "      <td>105</td>\n",
       "      <td>c.660-720</td>\n",
       "      <td>b.30-40</td>\n",
       "      <td>0</td>\n",
       "    </tr>\n",
       "  </tbody>\n",
       "</table>\n",
       "</div>"
      ],
      "text/plain": [
       "   CustomerId  CreditScore   Region  Gender  Age ACCT_OPN_DATE  \\\n",
       "0    15586039          471  Western  Female   36    2023-03-08   \n",
       "1    15723250          519    South    Male   42    2022-12-08   \n",
       "2    15581840          626    South    Male   33    2022-12-08   \n",
       "3    15662238          822    South    Male   37    2023-05-08   \n",
       "4    15795151          705    South  Female   38    2023-05-08   \n",
       "\n",
       "   M_Minus_one_Bal  Total_FD_Amt  HasCrCard Last_Login_Date  EstimatedSalary  \\\n",
       "0           304683        490000          0      2023-06-08         96366.70   \n",
       "1            37261        490000          1      2023-06-08        101485.72   \n",
       "2           346591        500000          1      2023-08-08        138504.28   \n",
       "3           393118        500000          1      2023-08-08        182624.93   \n",
       "4           107895        480000          0      2023-05-08         21177.10   \n",
       "\n",
       "   Acct_Cls_Flag  Current_balance  M_Minus_two_Bal  Acct_vintage  \\\n",
       "0              0           415351           292972           166   \n",
       "1              0           396451           123094           256   \n",
       "2              0            22758            55854           256   \n",
       "3              0           340244           278305           105   \n",
       "4              0           317835           131458           105   \n",
       "\n",
       "   Login_vintage CreditScore_buckets Age_buckets  Churn  \n",
       "0             74              a.<580     b.30-40      0  \n",
       "1             74              a.<580     c.40-60      0  \n",
       "2             13           b.580-660     b.30-40      1  \n",
       "3             13              e.800+     b.30-40      0  \n",
       "4            105           c.660-720     b.30-40      0  "
      ]
     },
     "execution_count": 20,
     "metadata": {},
     "output_type": "execute_result"
    }
   ],
   "source": [
    "df.head()"
   ]
  },
  {
   "cell_type": "code",
   "execution_count": null,
   "id": "7f3317a9",
   "metadata": {},
   "outputs": [],
   "source": []
  },
  {
   "cell_type": "raw",
   "id": "15a6bf41",
   "metadata": {},
   "source": [
    "Gender Distribution"
   ]
  },
  {
   "cell_type": "code",
   "execution_count": 21,
   "id": "ebef2854",
   "metadata": {},
   "outputs": [
    {
     "data": {
      "image/png": "[encoded data removed]",
      "text/plain": [
       "<Figure size 432x288 with 1 Axes>"
      ]
     },
     "metadata": {
      "needs_background": "light"
     },
     "output_type": "display_data"
    }
   ],
   "source": [
    "colors = ['#4D3425','#E4512B']\n",
    "ax = (df['Gender'].value_counts()*100.0 /len(df)).plot(kind='bar',\n",
    "                                                    stacked = True,\n",
    "                                                      rot = 0,\n",
    "                                                      color = colors)\n",
    "ax.yaxis.set_major_formatter(mtick.PercentFormatter())\n",
    "ax.set_ylabel('% Customers')\n",
    "ax.set_xlabel('Gender')\n",
    "ax.set_ylabel('% Customers')\n",
    "ax.set_title('Gender Distribution')\n",
    "\n",
    "# create a list to collect the plt.patches data\n",
    "totals = []\n",
    "\n",
    "# find the values and append to list\n",
    "for i in ax.patches:\n",
    "    totals.append(i.get_width())\n",
    "\n",
    "# set individual bar lables using above list\n",
    "total = sum(totals)\n",
    "\n",
    "for i in ax.patches:\n",
    "    # get_width pulls left or right; get_y pushes up or down\n",
    "    ax.text(i.get_x()+.15, i.get_height()-3.5, \\\n",
    "            str(round((i.get_height()/total), 1))+'%',\n",
    "            fontsize=12,\n",
    "            color='white',\n",
    "           weight = 'bold')"
   ]
  },
  {
   "cell_type": "code",
   "execution_count": null,
   "id": "751c9f71",
   "metadata": {},
   "outputs": [],
   "source": []
  },
  {
   "cell_type": "raw",
   "id": "df7fc9c4",
   "metadata": {},
   "source": [
    "Age vs Credit Score Heatmap"
   ]
  },
  {
   "cell_type": "code",
   "execution_count": 22,
   "id": "c4a93dba",
   "metadata": {},
   "outputs": [
    {
     "data": {
      "image/png": "[encoded data removed]",
      "text/plain": [
       "<Figure size 432x288 with 2 Axes>"
      ]
     },
     "metadata": {
      "needs_background": "light"
     },
     "output_type": "display_data"
    },
    {
     "data": {
      "text/plain": [
       "<Figure size 144x72 with 0 Axes>"
      ]
     },
     "metadata": {},
     "output_type": "display_data"
    }
   ],
   "source": [
    "import matplotlib.pyplot as plt\n",
    "import seaborn as sns\n",
    "import pandas as pd\n",
    "from io import StringIO\n",
    "\n",
    "\n",
    "heatmap = pd.pivot_table(df, values='CustomerId', index=['CreditScore_buckets'], columns=['Age_buckets'], aggfunc='count')\n",
    "ax = sns.heatmap(data=heatmap, annot=True,)\n",
    "plt.figure(figsize=(2,1))\n",
    "plt.show()"
   ]
  },
  {
   "cell_type": "markdown",
   "id": "32421dad",
   "metadata": {},
   "source": [
    "Interesting to note that for ages 18-30 and 60+ Credit score detiorates and for 30-40 its the best, which also follows intuitive understanding"
   ]
  },
  {
   "cell_type": "code",
   "execution_count": null,
   "id": "8c63049c",
   "metadata": {},
   "outputs": [],
   "source": []
  },
  {
   "cell_type": "markdown",
   "id": "d61e933f",
   "metadata": {},
   "source": [
    "Region"
   ]
  },
  {
   "cell_type": "code",
   "execution_count": 23,
   "id": "87496abe",
   "metadata": {},
   "outputs": [
    {
     "data": {
      "image/png": "[encoded data removed]",
      "text/plain": [
       "<Figure size 432x288 with 1 Axes>"
      ]
     },
     "metadata": {
      "needs_background": "light"
     },
     "output_type": "display_data"
    }
   ],
   "source": [
    "colors = ['#4D3425','#E4512B']\n",
    "ax = (df['Region'].value_counts()*100.0 /len(df)).plot(kind='bar',\n",
    "                                                    stacked = True,\n",
    "                                                      rot = 0,\n",
    "                                                      color = colors)\n",
    "ax.yaxis.set_major_formatter(mtick.PercentFormatter())\n",
    "ax.set_ylabel('% Customers')\n",
    "ax.set_xlabel('Region')\n",
    "ax.set_ylabel('% Customers')\n",
    "ax.set_title('Region Distribution')\n",
    "\n",
    "# create a list to collect the plt.patches data\n",
    "totals = []\n",
    "\n",
    "# find the values and append to list\n",
    "for i in ax.patches:\n",
    "    totals.append(i.get_width())\n",
    "\n",
    "# set individual bar lables using above list\n",
    "total = sum(totals)\n",
    "\n",
    "for i in ax.patches:\n",
    "    # get_width pulls left or right; get_y pushes up or down\n",
    "    ax.text(i.get_x()+.15, i.get_height()-3.5, \\\n",
    "            str(round((i.get_height()/total), 1))+'%',\n",
    "            fontsize=12,\n",
    "            color='white',\n",
    "           weight = 'bold')"
   ]
  },
  {
   "cell_type": "code",
   "execution_count": null,
   "id": "24212a87",
   "metadata": {},
   "outputs": [],
   "source": []
  },
  {
   "cell_type": "raw",
   "id": "079c27a1",
   "metadata": {},
   "source": [
    "Lets see relation ship b/w \n",
    "1. CreditCard & EstimatedSalary \n",
    "2. Login Vintage & Account Vintage"
   ]
  },
  {
   "cell_type": "code",
   "execution_count": 24,
   "id": "e8dae9c6",
   "metadata": {},
   "outputs": [
    {
     "data": {
      "text/plain": [
       "<AxesSubplot:xlabel='HasCrCard', ylabel='EstimatedSalary'>"
      ]
     },
     "execution_count": 24,
     "metadata": {},
     "output_type": "execute_result"
    },
    {
     "data": {
      "image/png": "[encoded data removed]",
      "text/plain": [
       "<Figure size 432x288 with 1 Axes>"
      ]
     },
     "metadata": {
      "needs_background": "light"
     },
     "output_type": "display_data"
    }
   ],
   "source": [
    "x = df['HasCrCard']\n",
    "y = df['EstimatedSalary']\n",
    "sns.boxplot(x = x, y = y)"
   ]
  },
  {
   "cell_type": "code",
   "execution_count": 25,
   "id": "0cf61286",
   "metadata": {},
   "outputs": [
    {
     "data": {
      "text/plain": [
       "Index(['CustomerId', 'CreditScore', 'Region', 'Gender', 'Age', 'ACCT_OPN_DATE',\n",
       "       'M_Minus_one_Bal', 'Total_FD_Amt', 'HasCrCard', 'Last_Login_Date',\n",
       "       'EstimatedSalary', 'Acct_Cls_Flag', 'Current_balance',\n",
       "       'M_Minus_two_Bal', 'Acct_vintage', 'Login_vintage',\n",
       "       'CreditScore_buckets', 'Age_buckets', 'Churn'],\n",
       "      dtype='object')"
      ]
     },
     "execution_count": 25,
     "metadata": {},
     "output_type": "execute_result"
    }
   ],
   "source": [
    "df.columns"
   ]
  },
  {
   "cell_type": "code",
   "execution_count": null,
   "id": "38aa5166",
   "metadata": {},
   "outputs": [],
   "source": []
  },
  {
   "cell_type": "raw",
   "id": "ab603260",
   "metadata": {},
   "source": [
    "Now Lets Look at Churners w.r.t to our variables"
   ]
  },
  {
   "cell_type": "code",
   "execution_count": null,
   "id": "7b004294",
   "metadata": {},
   "outputs": [],
   "source": []
  },
  {
   "cell_type": "raw",
   "id": "07eea61a",
   "metadata": {},
   "source": [
    "Churn by Gender"
   ]
  },
  {
   "cell_type": "code",
   "execution_count": 26,
   "id": "14680460",
   "metadata": {},
   "outputs": [
    {
     "data": {
      "image/png": "[encoded data removed]",
      "text/plain": [
       "<Figure size 720x432 with 1 Axes>"
      ]
     },
     "metadata": {
      "needs_background": "light"
     },
     "output_type": "display_data"
    }
   ],
   "source": [
    "colors = ['#4D3425','#E4512B']\n",
    "contract_churn = df.groupby(['Gender','Churn']).size().unstack()\n",
    "\n",
    "ax = (contract_churn.T*100.0 / contract_churn.T.sum()).T.plot(kind='bar',\n",
    "                                                                width = 0.3,\n",
    "                                                                stacked = True,\n",
    "                                                                rot = 0, \n",
    "                                                                figsize = (10,6),\n",
    "                                                                color = colors)\n",
    "ax.yaxis.set_major_formatter(mtick.PercentFormatter())\n",
    "ax.legend(loc='best',prop={'size':14},title = 'Churn')\n",
    "ax.set_ylabel('% Customers',size = 14)\n",
    "ax.set_title('Churn by Contract Type',size = 14)\n",
    "\n",
    "# Code to add the data labels on the stacked bar chart\n",
    "for p in ax.patches:\n",
    "    width, height = p.get_width(), p.get_height()\n",
    "    x, y = p.get_xy() \n",
    "    ax.annotate('{:.0f}%'.format(height), (p.get_x()+.25*width, p.get_y()+.4*height),\n",
    "                color = 'white',\n",
    "               weight = 'bold',\n",
    "               size = 14)"
   ]
  },
  {
   "cell_type": "code",
   "execution_count": null,
   "id": "b2e4ec62",
   "metadata": {},
   "outputs": [],
   "source": []
  },
  {
   "cell_type": "raw",
   "id": "79058361",
   "metadata": {},
   "source": [
    "Churn by CreditScore and Age"
   ]
  },
  {
   "cell_type": "code",
   "execution_count": 27,
   "id": "24689afc",
   "metadata": {},
   "outputs": [
    {
     "data": {
      "image/png": "[encoded data removed]",
      "text/plain": [
       "<Figure size 432x288 with 2 Axes>"
      ]
     },
     "metadata": {
      "needs_background": "light"
     },
     "output_type": "display_data"
    },
    {
     "data": {
      "text/plain": [
       "<Figure size 144x72 with 0 Axes>"
      ]
     },
     "metadata": {},
     "output_type": "display_data"
    }
   ],
   "source": [
    "import matplotlib.pyplot as plt\n",
    "import seaborn as sns\n",
    "import pandas as pd\n",
    "from io import StringIO\n",
    "\n",
    "\n",
    "heatmap = pd.pivot_table(df, values='Churn', index=['CreditScore_buckets'], columns=['Age_buckets'], aggfunc='sum')\n",
    "ax = sns.heatmap(data=heatmap, annot=True,)\n",
    "plt.figure(figsize=(2,1))\n",
    "plt.show()"
   ]
  },
  {
   "cell_type": "markdown",
   "id": "32cae9ba",
   "metadata": {},
   "source": [
    "Its quite clear the churners also are concentrated in age 30 to 60"
   ]
  },
  {
   "cell_type": "code",
   "execution_count": null,
   "id": "53b0db8c",
   "metadata": {},
   "outputs": [],
   "source": []
  },
  {
   "cell_type": "code",
   "execution_count": 28,
   "id": "8a2e9581",
   "metadata": {},
   "outputs": [],
   "source": [
    "df.to_csv(r\"Dataset/Churn_Modelling_post_EDA.csv\",index=False)"
   ]
  },
  {
   "cell_type": "code",
   "execution_count": null,
   "id": "472c2836",
   "metadata": {},
   "outputs": [],
   "source": []
  }
 ],
 "metadata": {
  "kernelspec": {
   "display_name": "Python 3",
   "language": "python",
   "name": "python3"
  },
  "language_info": {
   "codemirror_mode": {
    "name": "ipython",
    "version": 3
   },
   "file_extension": ".py",
   "mimetype": "text/x-python",
   "name": "python",
   "nbconvert_exporter": "python",
   "pygments_lexer": "ipython3",
   "version": "3.8.8"
  }
 },
 "nbformat": 4,
 "nbformat_minor": 5
}
